{
  "nbformat": 4,
  "nbformat_minor": 0,
  "metadata": {
    "colab": {
      "provenance": [],
      "authorship_tag": "ABX9TyN3DAQDo0gI/En9yZ+q9aCQ",
      "include_colab_link": true
    },
    "kernelspec": {
      "name": "python3",
      "display_name": "Python 3"
    },
    "language_info": {
      "name": "python"
    }
  },
  "cells": [
    {
      "cell_type": "markdown",
      "metadata": {
        "id": "view-in-github",
        "colab_type": "text"
      },
      "source": [
        "<a href=\"https://colab.research.google.com/github/zhiyuan-95/portfolio_optimizer/blob/master/portfolio_optimizer.ipynb\" target=\"_parent\"><img src=\"https://colab.research.google.com/assets/colab-badge.svg\" alt=\"Open In Colab\"/></a>"
      ]
    },
    {
      "cell_type": "code",
      "source": [
        "from pandas_datareader import data as pdr\n",
        "import yfinance as yfin\n",
        "from datetime import datetime, timedelta,date\n",
        "import time\n",
        "import pandas as pd\n",
        "import numpy as np"
      ],
      "metadata": {
        "id": "B7riVM0kH_Pg"
      },
      "execution_count": 1,
      "outputs": []
    },
    {
      "cell_type": "code",
      "source": [
        "yfin.pdr_override()"
      ],
      "metadata": {
        "id": "jzWD9p4YK-7A"
      },
      "execution_count": 2,
      "outputs": []
    },
    {
      "cell_type": "code",
      "source": [
        "class portfolio:\n",
        "  def __init__(self,tickers):\n",
        "    self._tickers = tickers\n",
        "    self._div_history = pd.DataFrame()\n",
        "    self._price_history = pd.DataFrame()\n",
        "    self.get_stocks()\n",
        "    self._t0 = ''\n",
        "    self._period = 12\n",
        "    self._t1 = ''\n",
        "    self._price= pd.DataFrame()\n",
        "    self._return = []\n",
        "    self._div = pd.DataFrame()\n",
        "  def get_stocks(self):\n",
        "      file_names = []\n",
        "      temp = []\n",
        "      div_date = []\n",
        "      div_history = {}\n",
        "      iter = 0\n",
        "      for x in self._tickers:\n",
        "        Start = '2007-1-1'\n",
        "        End = '2023-1-1'\n",
        "        self._price_history[x] = pdr.get_data_yahoo(x,start=Start, end=End)['Adj Close']\n",
        "        div_history[x] = yfin.Ticker(x).dividends\n",
        "        div_date+=list(div_history[x].index)\n",
        "      div_date = sorted(div_date)\n",
        "      self._div_history.index= map(lambda x: x.strftime('%Y-%m-%d'), div_date)\n",
        "      for y in self._tickers:\n",
        "        self._div_history[y] =div_history[y]\n",
        "        self._div_history[y] = self._div_history[y].fillna(0)\n",
        "  def update(self, date):\n",
        "    self._t1 = datetime.strptime(date,'%Y-%m-%d')\n",
        "    self._t0 = self._t1-timedelta(weeks = self._period)\n",
        "    start = self._t0.strftime('%Y-%m-%d')\n",
        "    end = self._t1.strftime(\"%Y-%m-%d\")\n",
        "    last_year = str(int(end[:4])-1)\n",
        "    self._price = self._price_history[start:end].to_numpy()\n",
        "    self._div = self._div_history[self._div_history.index.str.startswith(last_year)].to_numpy()\n",
        "  def Return(self):\n",
        "    # return  = return on stock value from t0-t1 + expected on dividend\n",
        "    # expected return on dividend of period t of year n = sum of dividend of year n-1 *(t/52)\n",
        "    p0 = self._price[0]\n",
        "    p1 = self._price[1]\n",
        "    return_p = (p1-p0)/p0\n",
        "    div_rate = sum(self._div)/p0\n",
        "    E_return_d = div_rate*self._period/52\n",
        "    return return_p+E_return_d\n",
        "  def pastReturn(self,years=3):\n",
        "    rtn = np.empty((3,years))\n",
        "    for t in range(years):\n",
        "      the_year = str(int(self._t1.strftime(\"%Y-%m-%d\")[:4])-t-1)\n",
        "      stock_last_yr= self._price_history[self._price_history.index.strftime(\"%Y-%m-%d\").str.startswith(the_year)].to_numpy()\n",
        "      div_sum = self._div_history[self._div_history.index.str.startswith(the_year)].to_numpy()\n",
        "      rtn[t] = (sum(div_sum)+stock_last_yr[-1]-stock_last_yr[0])/stock_last_yr[0]\n",
        "    return sum(rtn)/3"
      ],
      "metadata": {
        "id": "f7G26oHvwVww"
      },
      "execution_count": 10,
      "outputs": []
    },
    {
      "cell_type": "code",
      "source": [
        "tickers = ['qqq','dog','spy']\n",
        "p = portfolio(tickers)\n",
        "p.update('2021-02-03')\n",
        "p.pastReturn()"
      ],
      "metadata": {
        "id": "GtR3f8uQ2en1",
        "colab": {
          "base_uri": "https://localhost:8080/"
        },
        "outputId": "117bea15-7b34-4fb8-93db-bd0992ff6b51"
      },
      "execution_count": 11,
      "outputs": [
        {
          "output_type": "stream",
          "name": "stdout",
          "text": [
            "[*********************100%%**********************]  1 of 1 completed\n",
            "[*********************100%%**********************]  1 of 1 completed\n",
            "[*********************100%%**********************]  1 of 1 completed\n"
          ]
        },
        {
          "output_type": "execute_result",
          "data": {
            "text/plain": [
              "array([ 0.28378857, -0.10545031,  0.16476169])"
            ]
          },
          "metadata": {},
          "execution_count": 11
        }
      ]
    },
    {
      "cell_type": "code",
      "source": [],
      "metadata": {
        "colab": {
          "base_uri": "https://localhost:8080/"
        },
        "id": "nwTIhWKvTGTz",
        "outputId": "c2681428-ad21-4100-9bc0-275773a2aee9"
      },
      "execution_count": 9,
      "outputs": [
        {
          "output_type": "execute_result",
          "data": {
            "text/plain": [
              "array([-0.00360184,  0.01079586, -0.00586434])"
            ]
          },
          "metadata": {},
          "execution_count": 9
        }
      ]
    },
    {
      "cell_type": "code",
      "source": [],
      "metadata": {
        "id": "Cwk86LLIVmOc"
      },
      "execution_count": 159,
      "outputs": []
    },
    {
      "cell_type": "code",
      "source": [],
      "metadata": {
        "id": "qnChCuE5N4bv"
      },
      "execution_count": null,
      "outputs": []
    }
  ]
}