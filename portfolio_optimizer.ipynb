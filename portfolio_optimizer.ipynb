{
  "cells": [
    {
      "cell_type": "markdown",
      "metadata": {
        "id": "view-in-github",
        "colab_type": "text"
      },
      "source": [
        "<a href=\"https://colab.research.google.com/github/zhiyuan-95/portfolio_optimizer/blob/master/portfolio_optimizer.ipynb\" target=\"_parent\"><img src=\"https://colab.research.google.com/assets/colab-badge.svg\" alt=\"Open In Colab\"/></a>"
      ]
    },
    {
      "cell_type": "code",
      "execution_count": 6,
      "metadata": {
        "id": "B7riVM0kH_Pg"
      },
      "outputs": [],
      "source": [
        "from pandas_datareader import data as pdr\n",
        "import yfinance as yfin\n",
        "from datetime import datetime, timedelta,date\n",
        "import time\n",
        "import pandas as pd\n",
        "import numpy as np\n",
        "from scipy.optimize import minimize"
      ]
    },
    {
      "cell_type": "code",
      "execution_count": 7,
      "metadata": {
        "id": "jzWD9p4YK-7A"
      },
      "outputs": [],
      "source": [
        "yfin.pdr_override()"
      ]
    },
    {
      "cell_type": "code",
      "execution_count": 49,
      "metadata": {
        "id": "f7G26oHvwVww"
      },
      "outputs": [],
      "source": [
        "class portfolio:\n",
        "  def __init__(self,tickers, risk_free_rate = 0.55):\n",
        "    self._tickers = tickers\n",
        "    self._div_history = pd.DataFrame()\n",
        "    self._price_history = pd.DataFrame()\n",
        "    self.get_stocks()\n",
        "    self._t0 = ''\n",
        "    self._period = 12\n",
        "    self._t1 = ''\n",
        "    self._price= pd.DataFrame()\n",
        "    self._return = []\n",
        "    self._div = pd.DataFrame()\n",
        "    self._corr = 'numpy'\n",
        "    self._mu = []\n",
        "    self._risk_free_rate = risk_free_rate\n",
        "  def get_stocks(self):\n",
        "      file_names = []\n",
        "      temp = []\n",
        "      div_date = []\n",
        "      div_history = {}\n",
        "      iter = 0\n",
        "      for x in self._tickers:\n",
        "        Start = '2007-1-1'\n",
        "        End = '2023-1-1'\n",
        "        self._price_history[x] = pdr.get_data_yahoo(x,start=Start, end=End)['Adj Close']\n",
        "        div_history[x] = yfin.Ticker(x).dividends\n",
        "        div_date+=list(div_history[x].index)\n",
        "      div_date = sorted(div_date)\n",
        "      self._div_history.index= map(lambda x: x.strftime('%Y-%m-%d'), div_date)\n",
        "      for y in self._tickers:\n",
        "        self._div_history[y] =div_history[y]\n",
        "        self._div_history[y] = self._div_history[y].fillna(0)\n",
        "  def update(self, date):\n",
        "    self._t1 = datetime.strptime(date,'%Y-%m-%d')\n",
        "    self._t0 = self._t1-timedelta(weeks = self._period)\n",
        "    start = self._t0.strftime('%Y-%m-%d')\n",
        "    end = self._t1.strftime(\"%Y-%m-%d\")\n",
        "    last_year = str(int(end[:4])-1)\n",
        "    self._price = self._price_history[start:end]\n",
        "    self._div = self._div_history[self._div_history.index.str.startswith(last_year)].to_numpy()\n",
        "    self._corr = self._price.corr().to_numpy()\n",
        "    self._price = self._price.to_numpy()\n",
        "    self.Expected_return()\n",
        "  def Return(self):\n",
        "    # return  = return on stock value from t0-t1 + expected on dividend\n",
        "    # expected return on dividend of period t of year n = sum of dividend of year n-1 *(t/52)\n",
        "    p0 = self._price[0]\n",
        "    p1 = self._price[1]\n",
        "    return_p = (p1-p0)/p0\n",
        "    div_rate = sum(self._div)/p0\n",
        "    E_return_d = div_rate*self._period/52\n",
        "    return return_p+E_return_d\n",
        "  def pastReturn(self,years=1):\n",
        "    rtn = np.empty((years,len(tickers)))\n",
        "    for t in range(years):\n",
        "      the_year = str(int(self._t1.strftime(\"%Y-%m-%d\")[:4])-t-1)\n",
        "      stock_last_yr= self._price_history[self._price_history.index.strftime(\"%Y-%m-%d\").str.startswith(the_year)].to_numpy()\n",
        "      div_sum = self._div_history[self._div_history.index.str.startswith(the_year)].to_numpy()\n",
        "      rtn[t] = (sum(div_sum)+stock_last_yr[-1]-stock_last_yr[0])/stock_last_yr[0]\n",
        "    return sum(rtn)/3\n",
        "  def Expected_return(self,w = 0.8):\n",
        "    self._mu = w*self.Return()+(1-w)*self.pastReturn()\n",
        "  def negative_sharpe(self, weights):\n",
        "    portfolio_return = np.dot(weights, self._mu)\n",
        "    portfolio_stddev = np.sqrt(np.dot(weights.T, np.dot(self._corr, weights)))\n",
        "    sharpe_ratio = (portfolio_return - self._risk_free_rate) / portfolio_stddev\n",
        "    return -sharpe_ratio\n",
        "  def optimized_weights(self):\n",
        "    constraints = ({'type': 'eq', 'fun': lambda weights: np.sum(weights) - 1})\n",
        "    initial_weights = np.ones(len(self._mu)) / len(self._mu)\n",
        "    # Perform the optimization\n",
        "    bounds = tuple((0, 1) for _ in range(len(self._mu)))\n",
        "    result = minimize(self.negative_sharpe, initial_weights,bounds=bounds, constraints=constraints)\n",
        "    # Extract the optimized weights\n",
        "    optimized_weights = result.x\n",
        "    return np.round(optimized_weights, decimals = 2)"
      ]
    },
    {
      "cell_type": "code",
      "execution_count": 50,
      "metadata": {
        "colab": {
          "base_uri": "https://localhost:8080/"
        },
        "id": "GtR3f8uQ2en1",
        "outputId": "d8fbad34-0521-47cc-a385-27df65e16322"
      },
      "outputs": [
        {
          "output_type": "stream",
          "name": "stdout",
          "text": [
            "[*********************100%%**********************]  1 of 1 completed\n",
            "[*********************100%%**********************]  1 of 1 completed\n",
            "[*********************100%%**********************]  1 of 1 completed\n",
            "[*********************100%%**********************]  1 of 1 completed\n"
          ]
        }
      ],
      "source": [
        "tickers = ['tqqq','dog','spy','iwm']\n",
        "p = portfolio(tickers)"
      ]
    },
    {
      "cell_type": "code",
      "execution_count": 51,
      "metadata": {
        "colab": {
          "base_uri": "https://localhost:8080/"
        },
        "id": "WrL34It5l4Eu",
        "outputId": "1f163934-847a-481a-b6e3-67d6346515eb"
      },
      "outputs": [
        {
          "output_type": "execute_result",
          "data": {
            "text/plain": [
              "array([1., 0., 0., 0.])"
            ]
          },
          "metadata": {},
          "execution_count": 51
        }
      ],
      "source": [
        "p.update('2022-5-8')\n",
        "p.optimized_weights()"
      ]
    },
    {
      "cell_type": "code",
      "source": [
        "print(p._t0)\n",
        "p._t1"
      ],
      "metadata": {
        "colab": {
          "base_uri": "https://localhost:8080/"
        },
        "id": "7VG6bfw4OtDC",
        "outputId": "d6bb8dc2-c6a4-4941-bc50-8746c993e440"
      },
      "execution_count": 46,
      "outputs": [
        {
          "output_type": "stream",
          "name": "stdout",
          "text": [
            "2022-02-13 00:00:00\n"
          ]
        },
        {
          "output_type": "execute_result",
          "data": {
            "text/plain": [
              "datetime.datetime(2022, 5, 8, 0, 0)"
            ]
          },
          "metadata": {},
          "execution_count": 46
        }
      ]
    },
    {
      "cell_type": "code",
      "execution_count": 54,
      "metadata": {
        "id": "Cwk86LLIVmOc"
      },
      "outputs": [],
      "source": [
        "class trader:\n",
        "  def __init__(self,tickers=['qqq','spy','dog']):\n",
        "    self._asset = 100\n",
        "    self._tickers = tickers\n",
        "  def buy(self)"
      ]
    },
    {
      "cell_type": "code",
      "execution_count": 55,
      "metadata": {
        "id": "qnChCuE5N4bv",
        "colab": {
          "base_uri": "https://localhost:8080/",
          "height": 181
        },
        "outputId": "bcbcedef-d670-49c8-9f5e-ab0839a62207"
      },
      "outputs": [
        {
          "output_type": "error",
          "ename": "AttributeError",
          "evalue": "ignored",
          "traceback": [
            "\u001b[0;31m---------------------------------------------------------------------------\u001b[0m",
            "\u001b[0;31mAttributeError\u001b[0m                            Traceback (most recent call last)",
            "\u001b[0;32m<ipython-input-55-adf47fcf613c>\u001b[0m in \u001b[0;36m<cell line: 1>\u001b[0;34m()\u001b[0m\n\u001b[0;32m----> 1\u001b[0;31m \u001b[0mtrader\u001b[0m\u001b[0;34m.\u001b[0m\u001b[0m_portfolio\u001b[0m\u001b[0;34m\u001b[0m\u001b[0;34m\u001b[0m\u001b[0m\n\u001b[0m",
            "\u001b[0;31mAttributeError\u001b[0m: type object 'trader' has no attribute '_portfolio'"
          ]
        }
      ],
      "source": [
        "for"
      ]
    }
  ],
  "metadata": {
    "colab": {
      "provenance": [],
      "authorship_tag": "ABX9TyNzZO9sgvupTCFCt0V8mZGc",
      "include_colab_link": true
    },
    "kernelspec": {
      "display_name": "Python 3",
      "name": "python3"
    },
    "language_info": {
      "name": "python"
    }
  },
  "nbformat": 4,
  "nbformat_minor": 0
}